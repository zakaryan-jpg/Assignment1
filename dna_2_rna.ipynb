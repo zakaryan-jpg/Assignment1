# dna to rna

seq = "GATGGAACTTGACTACGTAAATT"
print(seq.replace("T", "U"))
